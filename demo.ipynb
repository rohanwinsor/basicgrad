{
 "cells": [
  {
   "cell_type": "code",
   "execution_count": 91,
   "id": "26b70809-fdf4-434f-a005-6364790a85df",
   "metadata": {},
   "outputs": [],
   "source": [
    "from basicgrad import Neuron, Value"
   ]
  },
  {
   "cell_type": "code",
   "execution_count": 92,
   "id": "80bad96e-0c47-4581-9766-abea742f7c37",
   "metadata": {},
   "outputs": [],
   "source": [
    "c2f = lambda x : float(1.8*x + 32) "
   ]
  },
  {
   "cell_type": "code",
   "execution_count": 93,
   "id": "30e6914c-50e4-4f9f-9d6b-cc532c63986c",
   "metadata": {},
   "outputs": [
    {
     "data": {
      "text/plain": [
       "[Value(data=0.014375127545963817, grad=0 label=w0),\n",
       " Value(data=0.025167836034803992, grad=0 label=b)]"
      ]
     },
     "execution_count": 93,
     "metadata": {},
     "output_type": "execute_result"
    }
   ],
   "source": [
    "model = Neuron(1, nonlin=False)\n",
    "model.parameters()"
   ]
  },
  {
   "cell_type": "code",
   "execution_count": 94,
   "id": "184a27df-e490-4607-8406-7a8a28660b4f",
   "metadata": {},
   "outputs": [],
   "source": [
    "X = [[Value(float(i))] for i in range(-5,5)]\n",
    "y = [Value(c2f(i)) for i in range(-5,5)]\n",
    "lr = 0.01\n",
    "for _ in range(100):\n",
    "    losss = []\n",
    "    for x, yout in zip(X,y):\n",
    "        pred = model(x)\n",
    "        loss = (yout - pred)**2\n",
    "        losss.append(loss)\n",
    "    loss = sum(losss)\n",
    "    if loss.data < 0.1:\n",
    "        break\n",
    "    for pr in model.parameters():\n",
    "        pr.grad = 0.0\n",
    "    loss.backward()\n",
    "    for pr in model.parameters():\n",
    "        pr.data += (-lr * pr.grad)"
   ]
  },
  {
   "cell_type": "code",
   "execution_count": 95,
   "id": "636b26ce-1f2d-414f-a385-6a2d69d1e740",
   "metadata": {},
   "outputs": [
    {
     "data": {
      "text/plain": [
       "Value(data=0.0905507934679804, grad=0)"
      ]
     },
     "execution_count": 95,
     "metadata": {},
     "output_type": "execute_result"
    }
   ],
   "source": [
    "loss"
   ]
  },
  {
   "cell_type": "code",
   "execution_count": 96,
   "id": "78be1942-18ae-4ed2-bef6-4ee9dfaef9e5",
   "metadata": {},
   "outputs": [
    {
     "data": {
      "text/plain": [
       "[Value(data=1.7935622724414872, grad=-0.14677761840975734 label=w0),\n",
       " Value(data=31.903436808199018, grad=-2.3152609982418966 label=b)]"
      ]
     },
     "execution_count": 96,
     "metadata": {},
     "output_type": "execute_result"
    }
   ],
   "source": [
    "model.parameters()"
   ]
  },
  {
   "cell_type": "code",
   "execution_count": 97,
   "id": "329405b5-e1a3-4e49-a00d-cc8d24a6593b",
   "metadata": {},
   "outputs": [
    {
     "data": {
      "text/plain": [
       "Value(data=31.903436808199018, grad=0)"
      ]
     },
     "execution_count": 97,
     "metadata": {},
     "output_type": "execute_result"
    }
   ],
   "source": [
    "model([Value(0)])"
   ]
  },
  {
   "cell_type": "code",
   "execution_count": 98,
   "id": "cdef2286-014a-4f05-ab7b-96ece69ebf65",
   "metadata": {},
   "outputs": [
    {
     "data": {
      "text/plain": [
       "32.0"
      ]
     },
     "execution_count": 98,
     "metadata": {},
     "output_type": "execute_result"
    }
   ],
   "source": [
    "c2f(0)"
   ]
  },
  {
   "cell_type": "code",
   "execution_count": null,
   "id": "cec066e8-b94b-4c73-a178-d40842dc180b",
   "metadata": {},
   "outputs": [],
   "source": []
  }
 ],
 "metadata": {
  "kernelspec": {
   "display_name": "Python 3 (ipykernel)",
   "language": "python",
   "name": "python3"
  },
  "language_info": {
   "codemirror_mode": {
    "name": "ipython",
    "version": 3
   },
   "file_extension": ".py",
   "mimetype": "text/x-python",
   "name": "python",
   "nbconvert_exporter": "python",
   "pygments_lexer": "ipython3",
   "version": "3.7.13"
  }
 },
 "nbformat": 4,
 "nbformat_minor": 5
}
